{
 "cells": [
  {
   "cell_type": "markdown",
   "id": "673f9853",
   "metadata": {},
   "source": [
    "## Example code"
   ]
  },
  {
   "cell_type": "markdown",
   "id": "0301b668",
   "metadata": {},
   "source": [
    "### Imports for the usage example"
   ]
  },
  {
   "cell_type": "code",
   "execution_count": 1,
   "id": "97e05225",
   "metadata": {
    "scrolled": false
   },
   "outputs": [
    {
     "name": "stdout",
     "output_type": "stream",
     "text": [
      "Collecting streamlit==1.9.0\n",
      "  Using cached streamlit-1.9.0-py2.py3-none-any.whl (10.1 MB)\n",
      "Requirement already satisfied: protobuf~=3.19.0 in c:\\users\\degin\\anaconda3\\envs\\testreq\\lib\\site-packages (from -r requirements.txt (line 2)) (3.19.4)\n",
      "Requirement already satisfied: scikit-learn==1.1.1 in c:\\users\\degin\\anaconda3\\envs\\testreq\\lib\\site-packages (from -r requirements.txt (line 3)) (1.1.1)\n",
      "Requirement already satisfied: tensorflow==2.8.0 in c:\\users\\degin\\anaconda3\\envs\\testreq\\lib\\site-packages (from -r requirements.txt (line 4)) (2.8.0)\n",
      "Requirement already satisfied: pandas==1.4.2 in c:\\users\\degin\\anaconda3\\envs\\testreq\\lib\\site-packages (from -r requirements.txt (line 5)) (1.4.2)\n",
      "Requirement already satisfied: padasip==1.2.1 in c:\\users\\degin\\anaconda3\\envs\\testreq\\lib\\site-packages (from -r requirements.txt (line 6)) (1.2.1)\n",
      "Requirement already satisfied: scipy==1.8.0 in c:\\users\\degin\\anaconda3\\envs\\testreq\\lib\\site-packages (from -r requirements.txt (line 7)) (1.8.0)\n",
      "Requirement already satisfied: matplotlib==3.5.2 in c:\\users\\degin\\anaconda3\\envs\\testreq\\lib\\site-packages (from -r requirements.txt (line 8)) (3.5.2)\n",
      "Requirement already satisfied: neurokit2==0.2.0 in c:\\users\\degin\\anaconda3\\envs\\testreq\\lib\\site-packages (from -r requirements.txt (line 9)) (0.2.0)\n",
      "Requirement already satisfied: imbalanced-learn==0.9.1 in c:\\users\\degin\\anaconda3\\envs\\testreq\\lib\\site-packages (from -r requirements.txt (line 10)) (0.9.1)\n",
      "Requirement already satisfied: py-ecg-detectors==1.3.0 in c:\\users\\degin\\anaconda3\\envs\\testreq\\lib\\site-packages (from -r requirements.txt (line 11)) (1.3.0)\n",
      "Requirement already satisfied: mysql-connector-python==8.0.26 in c:\\users\\degin\\anaconda3\\envs\\testreq\\lib\\site-packages (from -r requirements.txt (line 13)) (8.0.26)\n",
      "Collecting pydeck>=0.1.dev5\n",
      "  Using cached pydeck-0.7.1-py2.py3-none-any.whl (4.3 MB)\n",
      "Collecting click<8.1,>=7.0\n",
      "  Using cached click-8.0.4-py3-none-any.whl (97 kB)\n",
      "Requirement already satisfied: cachetools>=4.0 in c:\\users\\degin\\anaconda3\\envs\\testreq\\lib\\site-packages (from streamlit==1.9.0->-r requirements.txt (line 1)) (5.2.0)\n",
      "Requirement already satisfied: tornado>=5.0 in c:\\users\\degin\\anaconda3\\envs\\testreq\\lib\\site-packages (from streamlit==1.9.0->-r requirements.txt (line 1)) (6.1)\n",
      "Collecting gitpython!=3.1.19\n",
      "  Using cached GitPython-3.1.27-py3-none-any.whl (181 kB)\n",
      "Requirement already satisfied: attrs in c:\\users\\degin\\anaconda3\\envs\\testreq\\lib\\site-packages (from streamlit==1.9.0->-r requirements.txt (line 1)) (21.4.0)\n",
      "Requirement already satisfied: python-dateutil in c:\\users\\degin\\anaconda3\\envs\\testreq\\lib\\site-packages (from streamlit==1.9.0->-r requirements.txt (line 1)) (2.8.2)\n",
      "Collecting tzlocal\n",
      "  Using cached tzlocal-4.2-py3-none-any.whl (19 kB)\n",
      "Collecting blinker\n",
      "  Using cached blinker-1.4-py3-none-any.whl\n",
      "Collecting semver\n",
      "  Using cached semver-2.13.0-py2.py3-none-any.whl (12 kB)\n",
      "Collecting pympler>=0.9\n",
      "  Using cached Pympler-1.0.1-py3-none-any.whl (164 kB)\n",
      "Collecting toml\n",
      "  Using cached toml-0.10.2-py2.py3-none-any.whl (16 kB)\n",
      "Requirement already satisfied: importlib-metadata>=1.4 in c:\\users\\degin\\anaconda3\\envs\\testreq\\lib\\site-packages (from streamlit==1.9.0->-r requirements.txt (line 1)) (4.12.0)\n",
      "Collecting validators\n",
      "  Using cached validators-0.20.0-py3-none-any.whl\n",
      "Collecting pyarrow\n",
      "  Using cached pyarrow-8.0.0-cp39-cp39-win_amd64.whl (17.9 MB)\n",
      "Requirement already satisfied: pillow>=6.2.0 in c:\\users\\degin\\anaconda3\\envs\\testreq\\lib\\site-packages (from streamlit==1.9.0->-r requirements.txt (line 1)) (9.2.0)\n",
      "Requirement already satisfied: packaging in c:\\users\\degin\\anaconda3\\envs\\testreq\\lib\\site-packages (from streamlit==1.9.0->-r requirements.txt (line 1)) (21.3)\n",
      "Collecting altair>=3.2.0\n",
      "  Using cached altair-4.2.0-py3-none-any.whl (812 kB)\n",
      "Requirement already satisfied: numpy in c:\\users\\degin\\anaconda3\\envs\\testreq\\lib\\site-packages (from streamlit==1.9.0->-r requirements.txt (line 1)) (1.23.0)\n",
      "Requirement already satisfied: requests in c:\\users\\degin\\anaconda3\\envs\\testreq\\lib\\site-packages (from streamlit==1.9.0->-r requirements.txt (line 1)) (2.28.1)\n",
      "Collecting watchdog\n",
      "  Using cached watchdog-2.1.9-py3-none-win_amd64.whl (78 kB)\n",
      "Requirement already satisfied: joblib>=1.0.0 in c:\\users\\degin\\anaconda3\\envs\\testreq\\lib\\site-packages (from scikit-learn==1.1.1->-r requirements.txt (line 3)) (1.1.0)\n",
      "Requirement already satisfied: threadpoolctl>=2.0.0 in c:\\users\\degin\\anaconda3\\envs\\testreq\\lib\\site-packages (from scikit-learn==1.1.1->-r requirements.txt (line 3)) (3.1.0)\n",
      "Requirement already satisfied: grpcio<2.0,>=1.24.3 in c:\\users\\degin\\anaconda3\\envs\\testreq\\lib\\site-packages (from tensorflow==2.8.0->-r requirements.txt (line 4)) (1.47.0)\n",
      "Requirement already satisfied: google-pasta>=0.1.1 in c:\\users\\degin\\anaconda3\\envs\\testreq\\lib\\site-packages (from tensorflow==2.8.0->-r requirements.txt (line 4)) (0.2.0)\n",
      "Requirement already satisfied: typing-extensions>=3.6.6 in c:\\users\\degin\\anaconda3\\envs\\testreq\\lib\\site-packages (from tensorflow==2.8.0->-r requirements.txt (line 4)) (4.1.1)\n",
      "Requirement already satisfied: wrapt>=1.11.0 in c:\\users\\degin\\anaconda3\\envs\\testreq\\lib\\site-packages (from tensorflow==2.8.0->-r requirements.txt (line 4)) (1.14.1)\n",
      "Requirement already satisfied: six>=1.12.0 in c:\\users\\degin\\anaconda3\\envs\\testreq\\lib\\site-packages (from tensorflow==2.8.0->-r requirements.txt (line 4)) (1.16.0)\n",
      "Requirement already satisfied: opt-einsum>=2.3.2 in c:\\users\\degin\\anaconda3\\envs\\testreq\\lib\\site-packages (from tensorflow==2.8.0->-r requirements.txt (line 4)) (3.3.0)\n",
      "Requirement already satisfied: libclang>=9.0.1 in c:\\users\\degin\\anaconda3\\envs\\testreq\\lib\\site-packages (from tensorflow==2.8.0->-r requirements.txt (line 4)) (14.0.1)\n",
      "Requirement already satisfied: keras-preprocessing>=1.1.1 in c:\\users\\degin\\anaconda3\\envs\\testreq\\lib\\site-packages (from tensorflow==2.8.0->-r requirements.txt (line 4)) (1.1.2)\n",
      "Requirement already satisfied: gast>=0.2.1 in c:\\users\\degin\\anaconda3\\envs\\testreq\\lib\\site-packages (from tensorflow==2.8.0->-r requirements.txt (line 4)) (0.5.3)\n",
      "Requirement already satisfied: absl-py>=0.4.0 in c:\\users\\degin\\anaconda3\\envs\\testreq\\lib\\site-packages (from tensorflow==2.8.0->-r requirements.txt (line 4)) (1.1.0)\n",
      "Requirement already satisfied: keras<2.9,>=2.8.0rc0 in c:\\users\\degin\\anaconda3\\envs\\testreq\\lib\\site-packages (from tensorflow==2.8.0->-r requirements.txt (line 4)) (2.8.0)\n",
      "Requirement already satisfied: h5py>=2.9.0 in c:\\users\\degin\\anaconda3\\envs\\testreq\\lib\\site-packages (from tensorflow==2.8.0->-r requirements.txt (line 4)) (3.7.0)\n",
      "Requirement already satisfied: termcolor>=1.1.0 in c:\\users\\degin\\anaconda3\\envs\\testreq\\lib\\site-packages (from tensorflow==2.8.0->-r requirements.txt (line 4)) (1.1.0)\n",
      "Requirement already satisfied: setuptools in c:\\users\\degin\\anaconda3\\envs\\testreq\\lib\\site-packages (from tensorflow==2.8.0->-r requirements.txt (line 4)) (61.2.0)\n",
      "Requirement already satisfied: tensorflow-io-gcs-filesystem>=0.23.1 in c:\\users\\degin\\anaconda3\\envs\\testreq\\lib\\site-packages (from tensorflow==2.8.0->-r requirements.txt (line 4)) (0.26.0)\n",
      "Requirement already satisfied: tf-estimator-nightly==2.8.0.dev2021122109 in c:\\users\\degin\\anaconda3\\envs\\testreq\\lib\\site-packages (from tensorflow==2.8.0->-r requirements.txt (line 4)) (2.8.0.dev2021122109)\n",
      "Requirement already satisfied: tensorboard<2.9,>=2.8 in c:\\users\\degin\\anaconda3\\envs\\testreq\\lib\\site-packages (from tensorflow==2.8.0->-r requirements.txt (line 4)) (2.8.0)\n",
      "Requirement already satisfied: flatbuffers>=1.12 in c:\\users\\degin\\anaconda3\\envs\\testreq\\lib\\site-packages (from tensorflow==2.8.0->-r requirements.txt (line 4)) (2.0)\n",
      "Requirement already satisfied: astunparse>=1.6.0 in c:\\users\\degin\\anaconda3\\envs\\testreq\\lib\\site-packages (from tensorflow==2.8.0->-r requirements.txt (line 4)) (1.6.3)\n",
      "Requirement already satisfied: pytz>=2020.1 in c:\\users\\degin\\anaconda3\\envs\\testreq\\lib\\site-packages (from pandas==1.4.2->-r requirements.txt (line 5)) (2022.1)\n",
      "Requirement already satisfied: cycler>=0.10 in c:\\users\\degin\\anaconda3\\envs\\testreq\\lib\\site-packages (from matplotlib==3.5.2->-r requirements.txt (line 8)) (0.11.0)\n",
      "Requirement already satisfied: pyparsing>=2.2.1 in c:\\users\\degin\\anaconda3\\envs\\testreq\\lib\\site-packages (from matplotlib==3.5.2->-r requirements.txt (line 8)) (3.0.4)\n",
      "Requirement already satisfied: kiwisolver>=1.0.1 in c:\\users\\degin\\anaconda3\\envs\\testreq\\lib\\site-packages (from matplotlib==3.5.2->-r requirements.txt (line 8)) (1.4.3)\n",
      "Requirement already satisfied: fonttools>=4.22.0 in c:\\users\\degin\\anaconda3\\envs\\testreq\\lib\\site-packages (from matplotlib==3.5.2->-r requirements.txt (line 8)) (4.33.3)\n",
      "Requirement already satisfied: pywavelets in c:\\users\\degin\\anaconda3\\envs\\testreq\\lib\\site-packages (from py-ecg-detectors==1.3.0->-r requirements.txt (line 11)) (1.3.0)\n",
      "Requirement already satisfied: gatspy in c:\\users\\degin\\anaconda3\\envs\\testreq\\lib\\site-packages (from py-ecg-detectors==1.3.0->-r requirements.txt (line 11)) (0.3)\n",
      "Requirement already satisfied: entrypoints in c:\\users\\degin\\anaconda3\\envs\\testreq\\lib\\site-packages (from altair>=3.2.0->streamlit==1.9.0->-r requirements.txt (line 1)) (0.4)\n",
      "Requirement already satisfied: jinja2 in c:\\users\\degin\\anaconda3\\envs\\testreq\\lib\\site-packages (from altair>=3.2.0->streamlit==1.9.0->-r requirements.txt (line 1)) (3.0.3)\n",
      "Collecting toolz\n",
      "  Using cached toolz-0.11.2-py3-none-any.whl (55 kB)\n",
      "Requirement already satisfied: jsonschema>=3.0 in c:\\users\\degin\\anaconda3\\envs\\testreq\\lib\\site-packages (from altair>=3.2.0->streamlit==1.9.0->-r requirements.txt (line 1)) (4.4.0)\n",
      "Requirement already satisfied: wheel<1.0,>=0.23.0 in c:\\users\\degin\\anaconda3\\envs\\testreq\\lib\\site-packages (from astunparse>=1.6.0->tensorflow==2.8.0->-r requirements.txt (line 4)) (0.37.1)\n",
      "Requirement already satisfied: colorama in c:\\users\\degin\\anaconda3\\envs\\testreq\\lib\\site-packages (from click<8.1,>=7.0->streamlit==1.9.0->-r requirements.txt (line 1)) (0.4.4)\n",
      "Collecting gitdb<5,>=4.0.1\n",
      "  Using cached gitdb-4.0.9-py3-none-any.whl (63 kB)\n",
      "Collecting smmap<6,>=3.0.1\n",
      "  Using cached smmap-5.0.0-py3-none-any.whl (24 kB)\n",
      "Requirement already satisfied: zipp>=0.5 in c:\\users\\degin\\anaconda3\\envs\\testreq\\lib\\site-packages (from importlib-metadata>=1.4->streamlit==1.9.0->-r requirements.txt (line 1)) (3.8.0)\n",
      "Requirement already satisfied: pyrsistent!=0.17.0,!=0.17.1,!=0.17.2,>=0.14.0 in c:\\users\\degin\\anaconda3\\envs\\testreq\\lib\\site-packages (from jsonschema>=3.0->altair>=3.2.0->streamlit==1.9.0->-r requirements.txt (line 1)) (0.18.0)\n",
      "Requirement already satisfied: traitlets>=4.3.2 in c:\\users\\degin\\anaconda3\\envs\\testreq\\lib\\site-packages (from pydeck>=0.1.dev5->streamlit==1.9.0->-r requirements.txt (line 1)) (5.1.1)\n",
      "Collecting ipywidgets>=7.0.0\n",
      "  Using cached ipywidgets-7.7.1-py2.py3-none-any.whl (123 kB)\n",
      "Requirement already satisfied: ipykernel>=5.1.2 in c:\\users\\degin\\anaconda3\\envs\\testreq\\lib\\site-packages (from pydeck>=0.1.dev5->streamlit==1.9.0->-r requirements.txt (line 1)) (6.9.1)\n",
      "Requirement already satisfied: debugpy<2.0,>=1.0.0 in c:\\users\\degin\\anaconda3\\envs\\testreq\\lib\\site-packages (from ipykernel>=5.1.2->pydeck>=0.1.dev5->streamlit==1.9.0->-r requirements.txt (line 1)) (1.5.1)\n",
      "Requirement already satisfied: nest-asyncio in c:\\users\\degin\\anaconda3\\envs\\testreq\\lib\\site-packages (from ipykernel>=5.1.2->pydeck>=0.1.dev5->streamlit==1.9.0->-r requirements.txt (line 1)) (1.5.5)\n",
      "Requirement already satisfied: ipython>=7.23.1 in c:\\users\\degin\\anaconda3\\envs\\testreq\\lib\\site-packages (from ipykernel>=5.1.2->pydeck>=0.1.dev5->streamlit==1.9.0->-r requirements.txt (line 1)) (8.3.0)\n",
      "Requirement already satisfied: jupyter-client<8.0 in c:\\users\\degin\\anaconda3\\envs\\testreq\\lib\\site-packages (from ipykernel>=5.1.2->pydeck>=0.1.dev5->streamlit==1.9.0->-r requirements.txt (line 1)) (7.2.2)\n",
      "Requirement already satisfied: matplotlib-inline<0.2.0,>=0.1.0 in c:\\users\\degin\\anaconda3\\envs\\testreq\\lib\\site-packages (from ipykernel>=5.1.2->pydeck>=0.1.dev5->streamlit==1.9.0->-r requirements.txt (line 1)) (0.1.2)\n",
      "Requirement already satisfied: prompt-toolkit!=3.0.0,!=3.0.1,<3.1.0,>=2.0.0 in c:\\users\\degin\\anaconda3\\envs\\testreq\\lib\\site-packages (from ipython>=7.23.1->ipykernel>=5.1.2->pydeck>=0.1.dev5->streamlit==1.9.0->-r requirements.txt (line 1)) (3.0.20)\n",
      "Requirement already satisfied: pickleshare in c:\\users\\degin\\anaconda3\\envs\\testreq\\lib\\site-packages (from ipython>=7.23.1->ipykernel>=5.1.2->pydeck>=0.1.dev5->streamlit==1.9.0->-r requirements.txt (line 1)) (0.7.5)\n",
      "Requirement already satisfied: decorator in c:\\users\\degin\\anaconda3\\envs\\testreq\\lib\\site-packages (from ipython>=7.23.1->ipykernel>=5.1.2->pydeck>=0.1.dev5->streamlit==1.9.0->-r requirements.txt (line 1)) (5.1.1)\n",
      "Requirement already satisfied: stack-data in c:\\users\\degin\\anaconda3\\envs\\testreq\\lib\\site-packages (from ipython>=7.23.1->ipykernel>=5.1.2->pydeck>=0.1.dev5->streamlit==1.9.0->-r requirements.txt (line 1)) (0.2.0)\n",
      "Requirement already satisfied: jedi>=0.16 in c:\\users\\degin\\anaconda3\\envs\\testreq\\lib\\site-packages (from ipython>=7.23.1->ipykernel>=5.1.2->pydeck>=0.1.dev5->streamlit==1.9.0->-r requirements.txt (line 1)) (0.18.1)\n",
      "Requirement already satisfied: backcall in c:\\users\\degin\\anaconda3\\envs\\testreq\\lib\\site-packages (from ipython>=7.23.1->ipykernel>=5.1.2->pydeck>=0.1.dev5->streamlit==1.9.0->-r requirements.txt (line 1)) (0.2.0)\n",
      "Requirement already satisfied: pygments>=2.4.0 in c:\\users\\degin\\anaconda3\\envs\\testreq\\lib\\site-packages (from ipython>=7.23.1->ipykernel>=5.1.2->pydeck>=0.1.dev5->streamlit==1.9.0->-r requirements.txt (line 1)) (2.11.2)\n",
      "Requirement already satisfied: ipython-genutils~=0.2.0 in c:\\users\\degin\\anaconda3\\envs\\testreq\\lib\\site-packages (from ipywidgets>=7.0.0->pydeck>=0.1.dev5->streamlit==1.9.0->-r requirements.txt (line 1)) (0.2.0)\n",
      "Collecting jupyterlab-widgets>=1.0.0\n",
      "  Using cached jupyterlab_widgets-1.1.1-py3-none-any.whl (245 kB)\n",
      "Collecting widgetsnbextension~=3.6.0\n",
      "  Using cached widgetsnbextension-3.6.1-py2.py3-none-any.whl (1.6 MB)\n",
      "Requirement already satisfied: parso<0.9.0,>=0.8.0 in c:\\users\\degin\\anaconda3\\envs\\testreq\\lib\\site-packages (from jedi>=0.16->ipython>=7.23.1->ipykernel>=5.1.2->pydeck>=0.1.dev5->streamlit==1.9.0->-r requirements.txt (line 1)) (0.8.3)\n",
      "Requirement already satisfied: MarkupSafe>=2.0 in c:\\users\\degin\\anaconda3\\envs\\testreq\\lib\\site-packages (from jinja2->altair>=3.2.0->streamlit==1.9.0->-r requirements.txt (line 1)) (2.1.1)\n",
      "Requirement already satisfied: pyzmq>=22.3 in c:\\users\\degin\\anaconda3\\envs\\testreq\\lib\\site-packages (from jupyter-client<8.0->ipykernel>=5.1.2->pydeck>=0.1.dev5->streamlit==1.9.0->-r requirements.txt (line 1)) (22.3.0)\n",
      "Requirement already satisfied: jupyter-core>=4.9.2 in c:\\users\\degin\\anaconda3\\envs\\testreq\\lib\\site-packages (from jupyter-client<8.0->ipykernel>=5.1.2->pydeck>=0.1.dev5->streamlit==1.9.0->-r requirements.txt (line 1)) (4.10.0)\n",
      "Requirement already satisfied: pywin32>=1.0 in c:\\users\\degin\\anaconda3\\envs\\testreq\\lib\\site-packages (from jupyter-core>=4.9.2->jupyter-client<8.0->ipykernel>=5.1.2->pydeck>=0.1.dev5->streamlit==1.9.0->-r requirements.txt (line 1)) (302)\n",
      "Requirement already satisfied: wcwidth in c:\\users\\degin\\anaconda3\\envs\\testreq\\lib\\site-packages (from prompt-toolkit!=3.0.0,!=3.0.1,<3.1.0,>=2.0.0->ipython>=7.23.1->ipykernel>=5.1.2->pydeck>=0.1.dev5->streamlit==1.9.0->-r requirements.txt (line 1)) (0.2.5)\n",
      "Requirement already satisfied: tensorboard-plugin-wit>=1.6.0 in c:\\users\\degin\\anaconda3\\envs\\testreq\\lib\\site-packages (from tensorboard<2.9,>=2.8->tensorflow==2.8.0->-r requirements.txt (line 4)) (1.8.1)\n",
      "Requirement already satisfied: tensorboard-data-server<0.7.0,>=0.6.0 in c:\\users\\degin\\anaconda3\\envs\\testreq\\lib\\site-packages (from tensorboard<2.9,>=2.8->tensorflow==2.8.0->-r requirements.txt (line 4)) (0.6.1)\n",
      "Requirement already satisfied: google-auth<3,>=1.6.3 in c:\\users\\degin\\anaconda3\\envs\\testreq\\lib\\site-packages (from tensorboard<2.9,>=2.8->tensorflow==2.8.0->-r requirements.txt (line 4)) (2.9.0)\n",
      "Requirement already satisfied: werkzeug>=0.11.15 in c:\\users\\degin\\anaconda3\\envs\\testreq\\lib\\site-packages (from tensorboard<2.9,>=2.8->tensorflow==2.8.0->-r requirements.txt (line 4)) (2.1.2)\n",
      "Requirement already satisfied: google-auth-oauthlib<0.5,>=0.4.1 in c:\\users\\degin\\anaconda3\\envs\\testreq\\lib\\site-packages (from tensorboard<2.9,>=2.8->tensorflow==2.8.0->-r requirements.txt (line 4)) (0.4.6)\n",
      "Requirement already satisfied: markdown>=2.6.8 in c:\\users\\degin\\anaconda3\\envs\\testreq\\lib\\site-packages (from tensorboard<2.9,>=2.8->tensorflow==2.8.0->-r requirements.txt (line 4)) (3.3.7)\n",
      "Requirement already satisfied: rsa<5,>=3.1.4 in c:\\users\\degin\\anaconda3\\envs\\testreq\\lib\\site-packages (from google-auth<3,>=1.6.3->tensorboard<2.9,>=2.8->tensorflow==2.8.0->-r requirements.txt (line 4)) (4.8)\n",
      "Requirement already satisfied: pyasn1-modules>=0.2.1 in c:\\users\\degin\\anaconda3\\envs\\testreq\\lib\\site-packages (from google-auth<3,>=1.6.3->tensorboard<2.9,>=2.8->tensorflow==2.8.0->-r requirements.txt (line 4)) (0.2.8)\n",
      "Requirement already satisfied: requests-oauthlib>=0.7.0 in c:\\users\\degin\\anaconda3\\envs\\testreq\\lib\\site-packages (from google-auth-oauthlib<0.5,>=0.4.1->tensorboard<2.9,>=2.8->tensorflow==2.8.0->-r requirements.txt (line 4)) (1.3.1)\n",
      "Requirement already satisfied: pyasn1<0.5.0,>=0.4.6 in c:\\users\\degin\\anaconda3\\envs\\testreq\\lib\\site-packages (from pyasn1-modules>=0.2.1->google-auth<3,>=1.6.3->tensorboard<2.9,>=2.8->tensorflow==2.8.0->-r requirements.txt (line 4)) (0.4.8)\n",
      "Requirement already satisfied: urllib3<1.27,>=1.21.1 in c:\\users\\degin\\anaconda3\\envs\\testreq\\lib\\site-packages (from requests->streamlit==1.9.0->-r requirements.txt (line 1)) (1.26.9)\n",
      "Requirement already satisfied: idna<4,>=2.5 in c:\\users\\degin\\anaconda3\\envs\\testreq\\lib\\site-packages (from requests->streamlit==1.9.0->-r requirements.txt (line 1)) (3.3)\n",
      "Requirement already satisfied: certifi>=2017.4.17 in c:\\users\\degin\\anaconda3\\envs\\testreq\\lib\\site-packages (from requests->streamlit==1.9.0->-r requirements.txt (line 1)) (2022.6.15)\n"
     ]
    },
    {
     "name": "stderr",
     "output_type": "stream",
     "text": [
      "WARNING: Ignoring invalid distribution -rotobuf (c:\\users\\degin\\anaconda3\\envs\\testreq\\lib\\site-packages)\n",
      "WARNING: Ignoring invalid distribution -rotobuf (c:\\users\\degin\\anaconda3\\envs\\testreq\\lib\\site-packages)\n",
      "WARNING: Ignoring invalid distribution -rotobuf (c:\\users\\degin\\anaconda3\\envs\\testreq\\lib\\site-packages)\n",
      "WARNING: Ignoring invalid distribution -rotobuf (c:\\users\\degin\\anaconda3\\envs\\testreq\\lib\\site-packages)\n",
      "WARNING: Ignoring invalid distribution -rotobuf (c:\\users\\degin\\anaconda3\\envs\\testreq\\lib\\site-packages)\n",
      "WARNING: Ignoring invalid distribution -rotobuf (c:\\users\\degin\\anaconda3\\envs\\testreq\\lib\\site-packages)\n",
      "WARNING: Ignoring invalid distribution -rotobuf (c:\\users\\degin\\anaconda3\\envs\\testreq\\lib\\site-packages)\n",
      "WARNING: Ignoring invalid distribution -rotobuf (c:\\users\\degin\\anaconda3\\envs\\testreq\\lib\\site-packages)\n",
      "WARNING: Ignoring invalid distribution -rotobuf (c:\\users\\degin\\anaconda3\\envs\\testreq\\lib\\site-packages)\n",
      "WARNING: Ignoring invalid distribution -rotobuf (c:\\users\\degin\\anaconda3\\envs\\testreq\\lib\\site-packages)\n",
      "WARNING: Ignoring invalid distribution -rotobuf (c:\\users\\degin\\anaconda3\\envs\\testreq\\lib\\site-packages)\n",
      "WARNING: Ignoring invalid distribution -rotobuf (c:\\users\\degin\\anaconda3\\envs\\testreq\\lib\\site-packages)\n",
      "WARNING: Ignoring invalid distribution -rotobuf (c:\\users\\degin\\anaconda3\\envs\\testreq\\lib\\site-packages)\n",
      "WARNING: Ignoring invalid distribution -rotobuf (c:\\users\\degin\\anaconda3\\envs\\testreq\\lib\\site-packages)\n",
      "WARNING: Ignoring invalid distribution -rotobuf (c:\\users\\degin\\anaconda3\\envs\\testreq\\lib\\site-packages)\n",
      "WARNING: Ignoring invalid distribution -rotobuf (c:\\users\\degin\\anaconda3\\envs\\testreq\\lib\\site-packages)\n",
      "WARNING: Ignoring invalid distribution -rotobuf (c:\\users\\degin\\anaconda3\\envs\\testreq\\lib\\site-packages)\n",
      "WARNING: Ignoring invalid distribution -rotobuf (c:\\users\\degin\\anaconda3\\envs\\testreq\\lib\\site-packages)\n",
      "WARNING: Ignoring invalid distribution -rotobuf (c:\\users\\degin\\anaconda3\\envs\\testreq\\lib\\site-packages)\n",
      "WARNING: Ignoring invalid distribution -rotobuf (c:\\users\\degin\\anaconda3\\envs\\testreq\\lib\\site-packages)\n",
      "WARNING: Ignoring invalid distribution -rotobuf (c:\\users\\degin\\anaconda3\\envs\\testreq\\lib\\site-packages)\n",
      "WARNING: Ignoring invalid distribution -rotobuf (c:\\users\\degin\\anaconda3\\envs\\testreq\\lib\\site-packages)\n",
      "WARNING: Ignoring invalid distribution -rotobuf (c:\\users\\degin\\anaconda3\\envs\\testreq\\lib\\site-packages)\n",
      "WARNING: Ignoring invalid distribution -rotobuf (c:\\users\\degin\\anaconda3\\envs\\testreq\\lib\\site-packages)\n",
      "WARNING: Ignoring invalid distribution -rotobuf (c:\\users\\degin\\anaconda3\\envs\\testreq\\lib\\site-packages)\n",
      "WARNING: Ignoring invalid distribution -rotobuf (c:\\users\\degin\\anaconda3\\envs\\testreq\\lib\\site-packages)\n",
      "WARNING: Ignoring invalid distribution -rotobuf (c:\\users\\degin\\anaconda3\\envs\\testreq\\lib\\site-packages)\n"
     ]
    },
    {
     "name": "stdout",
     "output_type": "stream",
     "text": [
      "Requirement already satisfied: charset-normalizer<3,>=2 in c:\\users\\degin\\anaconda3\\envs\\testreq\\lib\\site-packages (from requests->streamlit==1.9.0->-r requirements.txt (line 1)) (2.1.0)\n",
      "Requirement already satisfied: oauthlib>=3.0.0 in c:\\users\\degin\\anaconda3\\envs\\testreq\\lib\\site-packages (from requests-oauthlib>=0.7.0->google-auth-oauthlib<0.5,>=0.4.1->tensorboard<2.9,>=2.8->tensorflow==2.8.0->-r requirements.txt (line 4)) (3.2.0)\n",
      "Requirement already satisfied: notebook>=4.4.1 in c:\\users\\degin\\anaconda3\\envs\\testreq\\lib\\site-packages (from widgetsnbextension~=3.6.0->ipywidgets>=7.0.0->pydeck>=0.1.dev5->streamlit==1.9.0->-r requirements.txt (line 1)) (6.4.11)\n",
      "Requirement already satisfied: nbformat in c:\\users\\degin\\anaconda3\\envs\\testreq\\lib\\site-packages (from notebook>=4.4.1->widgetsnbextension~=3.6.0->ipywidgets>=7.0.0->pydeck>=0.1.dev5->streamlit==1.9.0->-r requirements.txt (line 1)) (5.3.0)\n",
      "Requirement already satisfied: terminado>=0.8.3 in c:\\users\\degin\\anaconda3\\envs\\testreq\\lib\\site-packages (from notebook>=4.4.1->widgetsnbextension~=3.6.0->ipywidgets>=7.0.0->pydeck>=0.1.dev5->streamlit==1.9.0->-r requirements.txt (line 1)) (0.13.1)\n",
      "Requirement already satisfied: nbconvert>=5 in c:\\users\\degin\\anaconda3\\envs\\testreq\\lib\\site-packages (from notebook>=4.4.1->widgetsnbextension~=3.6.0->ipywidgets>=7.0.0->pydeck>=0.1.dev5->streamlit==1.9.0->-r requirements.txt (line 1)) (6.4.4)\n",
      "Requirement already satisfied: prometheus-client in c:\\users\\degin\\anaconda3\\envs\\testreq\\lib\\site-packages (from notebook>=4.4.1->widgetsnbextension~=3.6.0->ipywidgets>=7.0.0->pydeck>=0.1.dev5->streamlit==1.9.0->-r requirements.txt (line 1)) (0.13.1)\n",
      "Requirement already satisfied: argon2-cffi in c:\\users\\degin\\anaconda3\\envs\\testreq\\lib\\site-packages (from notebook>=4.4.1->widgetsnbextension~=3.6.0->ipywidgets>=7.0.0->pydeck>=0.1.dev5->streamlit==1.9.0->-r requirements.txt (line 1)) (21.3.0)\n",
      "Requirement already satisfied: Send2Trash>=1.8.0 in c:\\users\\degin\\anaconda3\\envs\\testreq\\lib\\site-packages (from notebook>=4.4.1->widgetsnbextension~=3.6.0->ipywidgets>=7.0.0->pydeck>=0.1.dev5->streamlit==1.9.0->-r requirements.txt (line 1)) (1.8.0)\n",
      "Requirement already satisfied: bleach in c:\\users\\degin\\anaconda3\\envs\\testreq\\lib\\site-packages (from nbconvert>=5->notebook>=4.4.1->widgetsnbextension~=3.6.0->ipywidgets>=7.0.0->pydeck>=0.1.dev5->streamlit==1.9.0->-r requirements.txt (line 1)) (4.1.0)\n",
      "Requirement already satisfied: beautifulsoup4 in c:\\users\\degin\\anaconda3\\envs\\testreq\\lib\\site-packages (from nbconvert>=5->notebook>=4.4.1->widgetsnbextension~=3.6.0->ipywidgets>=7.0.0->pydeck>=0.1.dev5->streamlit==1.9.0->-r requirements.txt (line 1)) (4.11.1)\n",
      "Requirement already satisfied: nbclient<0.6.0,>=0.5.0 in c:\\users\\degin\\anaconda3\\envs\\testreq\\lib\\site-packages (from nbconvert>=5->notebook>=4.4.1->widgetsnbextension~=3.6.0->ipywidgets>=7.0.0->pydeck>=0.1.dev5->streamlit==1.9.0->-r requirements.txt (line 1)) (0.5.13)\n",
      "Requirement already satisfied: jupyterlab-pygments in c:\\users\\degin\\anaconda3\\envs\\testreq\\lib\\site-packages (from nbconvert>=5->notebook>=4.4.1->widgetsnbextension~=3.6.0->ipywidgets>=7.0.0->pydeck>=0.1.dev5->streamlit==1.9.0->-r requirements.txt (line 1)) (0.1.2)\n",
      "Requirement already satisfied: mistune<2,>=0.8.1 in c:\\users\\degin\\anaconda3\\envs\\testreq\\lib\\site-packages (from nbconvert>=5->notebook>=4.4.1->widgetsnbextension~=3.6.0->ipywidgets>=7.0.0->pydeck>=0.1.dev5->streamlit==1.9.0->-r requirements.txt (line 1)) (0.8.4)\n",
      "Requirement already satisfied: defusedxml in c:\\users\\degin\\anaconda3\\envs\\testreq\\lib\\site-packages (from nbconvert>=5->notebook>=4.4.1->widgetsnbextension~=3.6.0->ipywidgets>=7.0.0->pydeck>=0.1.dev5->streamlit==1.9.0->-r requirements.txt (line 1)) (0.7.1)\n",
      "Requirement already satisfied: pandocfilters>=1.4.1 in c:\\users\\degin\\anaconda3\\envs\\testreq\\lib\\site-packages (from nbconvert>=5->notebook>=4.4.1->widgetsnbextension~=3.6.0->ipywidgets>=7.0.0->pydeck>=0.1.dev5->streamlit==1.9.0->-r requirements.txt (line 1)) (1.5.0)\n",
      "Requirement already satisfied: testpath in c:\\users\\degin\\anaconda3\\envs\\testreq\\lib\\site-packages (from nbconvert>=5->notebook>=4.4.1->widgetsnbextension~=3.6.0->ipywidgets>=7.0.0->pydeck>=0.1.dev5->streamlit==1.9.0->-r requirements.txt (line 1)) (0.6.0)\n",
      "Requirement already satisfied: fastjsonschema in c:\\users\\degin\\anaconda3\\envs\\testreq\\lib\\site-packages (from nbformat->notebook>=4.4.1->widgetsnbextension~=3.6.0->ipywidgets>=7.0.0->pydeck>=0.1.dev5->streamlit==1.9.0->-r requirements.txt (line 1)) (2.15.1)\n",
      "Requirement already satisfied: pywinpty>=1.1.0 in c:\\users\\degin\\anaconda3\\envs\\testreq\\lib\\site-packages (from terminado>=0.8.3->notebook>=4.4.1->widgetsnbextension~=3.6.0->ipywidgets>=7.0.0->pydeck>=0.1.dev5->streamlit==1.9.0->-r requirements.txt (line 1)) (2.0.2)\n",
      "Requirement already satisfied: argon2-cffi-bindings in c:\\users\\degin\\anaconda3\\envs\\testreq\\lib\\site-packages (from argon2-cffi->notebook>=4.4.1->widgetsnbextension~=3.6.0->ipywidgets>=7.0.0->pydeck>=0.1.dev5->streamlit==1.9.0->-r requirements.txt (line 1)) (21.2.0)\n",
      "Requirement already satisfied: cffi>=1.0.1 in c:\\users\\degin\\anaconda3\\envs\\testreq\\lib\\site-packages (from argon2-cffi-bindings->argon2-cffi->notebook>=4.4.1->widgetsnbextension~=3.6.0->ipywidgets>=7.0.0->pydeck>=0.1.dev5->streamlit==1.9.0->-r requirements.txt (line 1)) (1.15.0)\n",
      "Requirement already satisfied: pycparser in c:\\users\\degin\\anaconda3\\envs\\testreq\\lib\\site-packages (from cffi>=1.0.1->argon2-cffi-bindings->argon2-cffi->notebook>=4.4.1->widgetsnbextension~=3.6.0->ipywidgets>=7.0.0->pydeck>=0.1.dev5->streamlit==1.9.0->-r requirements.txt (line 1)) (2.21)\n",
      "Requirement already satisfied: soupsieve>1.2 in c:\\users\\degin\\anaconda3\\envs\\testreq\\lib\\site-packages (from beautifulsoup4->nbconvert>=5->notebook>=4.4.1->widgetsnbextension~=3.6.0->ipywidgets>=7.0.0->pydeck>=0.1.dev5->streamlit==1.9.0->-r requirements.txt (line 1)) (2.3.1)\n",
      "Requirement already satisfied: webencodings in c:\\users\\degin\\anaconda3\\envs\\testreq\\lib\\site-packages (from bleach->nbconvert>=5->notebook>=4.4.1->widgetsnbextension~=3.6.0->ipywidgets>=7.0.0->pydeck>=0.1.dev5->streamlit==1.9.0->-r requirements.txt (line 1)) (0.5.1)\n",
      "Requirement already satisfied: executing in c:\\users\\degin\\anaconda3\\envs\\testreq\\lib\\site-packages (from stack-data->ipython>=7.23.1->ipykernel>=5.1.2->pydeck>=0.1.dev5->streamlit==1.9.0->-r requirements.txt (line 1)) (0.8.3)\n",
      "Requirement already satisfied: asttokens in c:\\users\\degin\\anaconda3\\envs\\testreq\\lib\\site-packages (from stack-data->ipython>=7.23.1->ipykernel>=5.1.2->pydeck>=0.1.dev5->streamlit==1.9.0->-r requirements.txt (line 1)) (2.0.5)\n",
      "Requirement already satisfied: pure-eval in c:\\users\\degin\\anaconda3\\envs\\testreq\\lib\\site-packages (from stack-data->ipython>=7.23.1->ipykernel>=5.1.2->pydeck>=0.1.dev5->streamlit==1.9.0->-r requirements.txt (line 1)) (0.2.2)\n",
      "Collecting pytz-deprecation-shim\n",
      "  Using cached pytz_deprecation_shim-0.1.0.post0-py2.py3-none-any.whl (15 kB)\n",
      "Collecting tzdata\n",
      "  Using cached tzdata-2022.1-py2.py3-none-any.whl (339 kB)\n",
      "Installing collected packages: widgetsnbextension, tzdata, smmap, jupyterlab-widgets, toolz, pytz-deprecation-shim, ipywidgets, gitdb, watchdog, validators, tzlocal, toml, semver, pympler, pydeck, pyarrow, gitpython, click, blinker, altair, streamlit\n",
      "Successfully installed altair-4.2.0 blinker-1.4 click-8.0.4 gitdb-4.0.9 gitpython-3.1.27 ipywidgets-7.7.1 jupyterlab-widgets-1.1.1 pyarrow-8.0.0 pydeck-0.7.1 pympler-1.0.1 pytz-deprecation-shim-0.1.0.post0 semver-2.13.0 smmap-5.0.0 streamlit-1.9.0 toml-0.10.2 toolz-0.11.2 tzdata-2022.1 tzlocal-4.2 validators-0.20.0 watchdog-2.1.9 widgetsnbextension-3.6.1\n"
     ]
    }
   ],
   "source": [
    "!pip install -r requirements.txt"
   ]
  },
  {
   "cell_type": "code",
   "execution_count": 1,
   "id": "58d504fe",
   "metadata": {},
   "outputs": [],
   "source": [
    "from wettbewerb import load_references, save_predictions\n",
    "from score import score\n",
    "import os\n",
    "from sklearn.model_selection import train_test_split\n",
    "from train import train\n",
    "from predict import predict_labels"
   ]
  },
  {
   "cell_type": "markdown",
   "id": "0ac5a7ba",
   "metadata": {},
   "source": [
    "### Get signals and split the datasets\n"
   ]
  },
  {
   "cell_type": "code",
   "execution_count": 2,
   "id": "d9cd1b0d",
   "metadata": {
    "scrolled": true
   },
   "outputs": [
    {
     "name": "stdout",
     "output_type": "stream",
     "text": [
      "6000\t Dateien wurden geladen.\n"
     ]
    }
   ],
   "source": [
    "ecg_leads, ecg_labels, fs, ecg_names = load_references('training')\n"
   ]
  },
  {
   "cell_type": "code",
   "execution_count": 3,
   "id": "6b7a1f64",
   "metadata": {},
   "outputs": [],
   "source": [
    "ecg_train, ecg_test, labels_train, labels_test,names_train,names_test = train_test_split(ecg_leads, \n",
    "                                                                  ecg_labels,ecg_names,\n",
    "                                                                  test_size=0.2, shuffle =True,stratify=ecg_labels)"
   ]
  },
  {
   "cell_type": "markdown",
   "id": "eb9414e1",
   "metadata": {},
   "source": [
    "### Train and save model"
   ]
  },
  {
   "cell_type": "code",
   "execution_count": 7,
   "id": "b2457313",
   "metadata": {},
   "outputs": [
    {
     "name": "stdout",
     "output_type": "stream",
     "text": [
      "Epoch 1/60\n",
      "2162/2162 [==============================] - 10s 4ms/step - loss: 2.1062 - accuracy: 0.4943\n",
      "Epoch 2/60\n",
      "2162/2162 [==============================] - 9s 4ms/step - loss: 1.5421 - accuracy: 0.6211\n",
      "Epoch 3/60\n",
      "2162/2162 [==============================] - 9s 4ms/step - loss: 1.3891 - accuracy: 0.6543\n",
      "Epoch 4/60\n",
      "2162/2162 [==============================] - 10s 5ms/step - loss: 1.3025 - accuracy: 0.6746\n",
      "Epoch 5/60\n",
      "2162/2162 [==============================] - 10s 4ms/step - loss: 1.2310 - accuracy: 0.6902\n",
      "Epoch 6/60\n",
      "2162/2162 [==============================] - 9s 4ms/step - loss: 1.1953 - accuracy: 0.6986\n",
      "Epoch 7/60\n",
      "2162/2162 [==============================] - 9s 4ms/step - loss: 1.1434 - accuracy: 0.7093\n",
      "Epoch 8/60\n",
      "2162/2162 [==============================] - 9s 4ms/step - loss: 1.1117 - accuracy: 0.7168\n",
      "Epoch 9/60\n",
      "2162/2162 [==============================] - 10s 4ms/step - loss: 1.0849 - accuracy: 0.7236\n",
      "Epoch 10/60\n",
      "2162/2162 [==============================] - 9s 4ms/step - loss: 1.0592 - accuracy: 0.7294\n",
      "Epoch 11/60\n",
      "2162/2162 [==============================] - 9s 4ms/step - loss: 1.0343 - accuracy: 0.7350\n",
      "Epoch 12/60\n",
      "2162/2162 [==============================] - 9s 4ms/step - loss: 1.0103 - accuracy: 0.7403\n",
      "Epoch 13/60\n",
      "2162/2162 [==============================] - 9s 4ms/step - loss: 0.9995 - accuracy: 0.7431\n",
      "Epoch 14/60\n",
      "2162/2162 [==============================] - 9s 4ms/step - loss: 0.9811 - accuracy: 0.7476\n",
      "Epoch 15/60\n",
      "2162/2162 [==============================] - 9s 4ms/step - loss: 0.9671 - accuracy: 0.7506\n",
      "Epoch 16/60\n",
      "2162/2162 [==============================] - 9s 4ms/step - loss: 0.9511 - accuracy: 0.7547\n",
      "Epoch 17/60\n",
      "2162/2162 [==============================] - 9s 4ms/step - loss: 0.9418 - accuracy: 0.7560\n",
      "Epoch 18/60\n",
      "2162/2162 [==============================] - 9s 4ms/step - loss: 0.9244 - accuracy: 0.7589\n",
      "Epoch 19/60\n",
      "2162/2162 [==============================] - 9s 4ms/step - loss: 0.9207 - accuracy: 0.7613\n",
      "Epoch 20/60\n",
      "2162/2162 [==============================] - 10s 4ms/step - loss: 0.9137 - accuracy: 0.7623\n",
      "Epoch 21/60\n",
      "2162/2162 [==============================] - 9s 4ms/step - loss: 0.9050 - accuracy: 0.7631\n",
      "Epoch 22/60\n",
      "2162/2162 [==============================] - 9s 4ms/step - loss: 0.8937 - accuracy: 0.7672\n",
      "Epoch 23/60\n",
      "2162/2162 [==============================] - 9s 4ms/step - loss: 0.8845 - accuracy: 0.7679\n",
      "Epoch 24/60\n",
      "2162/2162 [==============================] - 9s 4ms/step - loss: 0.8816 - accuracy: 0.7692\n",
      "Epoch 25/60\n",
      "2162/2162 [==============================] - 9s 4ms/step - loss: 0.8648 - accuracy: 0.7722\n",
      "Epoch 26/60\n",
      "2162/2162 [==============================] - 9s 4ms/step - loss: 0.8617 - accuracy: 0.7745\n",
      "Epoch 27/60\n",
      "2162/2162 [==============================] - 9s 4ms/step - loss: 0.8603 - accuracy: 0.7735\n",
      "Epoch 28/60\n",
      "2162/2162 [==============================] - 9s 4ms/step - loss: 0.8518 - accuracy: 0.7752\n",
      "Epoch 29/60\n",
      "2162/2162 [==============================] - 9s 4ms/step - loss: 0.8394 - accuracy: 0.7782\n",
      "Epoch 30/60\n",
      "2162/2162 [==============================] - 9s 4ms/step - loss: 0.8434 - accuracy: 0.7773\n",
      "Epoch 31/60\n",
      "2162/2162 [==============================] - 9s 4ms/step - loss: 0.8413 - accuracy: 0.7789\n",
      "Epoch 32/60\n",
      "2162/2162 [==============================] - 10s 5ms/step - loss: 0.8376 - accuracy: 0.7793\n",
      "Epoch 33/60\n",
      "2162/2162 [==============================] - 10s 4ms/step - loss: 0.8292 - accuracy: 0.7816\n",
      "Epoch 34/60\n",
      "2162/2162 [==============================] - 9s 4ms/step - loss: 0.8211 - accuracy: 0.7833\n",
      "Epoch 35/60\n",
      "2162/2162 [==============================] - 10s 5ms/step - loss: 0.8203 - accuracy: 0.7838\n",
      "Epoch 36/60\n",
      "2162/2162 [==============================] - 9s 4ms/step - loss: 0.8165 - accuracy: 0.7845\n",
      "Epoch 37/60\n",
      "2162/2162 [==============================] - 9s 4ms/step - loss: 0.8150 - accuracy: 0.7849\n",
      "Epoch 38/60\n",
      "2162/2162 [==============================] - 9s 4ms/step - loss: 0.8140 - accuracy: 0.7856\n",
      "Epoch 39/60\n",
      "2162/2162 [==============================] - 10s 4ms/step - loss: 0.8041 - accuracy: 0.7859\n",
      "Epoch 40/60\n",
      "2162/2162 [==============================] - 9s 4ms/step - loss: 0.8052 - accuracy: 0.7868\n",
      "Epoch 41/60\n",
      "2162/2162 [==============================] - 9s 4ms/step - loss: 0.8045 - accuracy: 0.7866\n",
      "Epoch 42/60\n",
      "2162/2162 [==============================] - 9s 4ms/step - loss: 0.8061 - accuracy: 0.7864\n",
      "Epoch 43/60\n",
      "2162/2162 [==============================] - 9s 4ms/step - loss: 0.7915 - accuracy: 0.7901\n",
      "Epoch 44/60\n",
      "2162/2162 [==============================] - 9s 4ms/step - loss: 0.7970 - accuracy: 0.7891\n",
      "Epoch 45/60\n",
      "2162/2162 [==============================] - 9s 4ms/step - loss: 0.7903 - accuracy: 0.7902\n",
      "Epoch 46/60\n",
      "2162/2162 [==============================] - 9s 4ms/step - loss: 0.7864 - accuracy: 0.7918\n",
      "Epoch 47/60\n",
      "2162/2162 [==============================] - 9s 4ms/step - loss: 0.7880 - accuracy: 0.7921\n",
      "Epoch 48/60\n",
      "2162/2162 [==============================] - 9s 4ms/step - loss: 0.7850 - accuracy: 0.7911\n",
      "Epoch 49/60\n",
      "2162/2162 [==============================] - 10s 4ms/step - loss: 0.7770 - accuracy: 0.7944\n",
      "Epoch 50/60\n",
      "2162/2162 [==============================] - 10s 5ms/step - loss: 0.7829 - accuracy: 0.7924\n",
      "Epoch 51/60\n",
      "2162/2162 [==============================] - 10s 5ms/step - loss: 0.7706 - accuracy: 0.7959\n",
      "Epoch 52/60\n",
      "2162/2162 [==============================] - 10s 5ms/step - loss: 0.7771 - accuracy: 0.7941\n",
      "Epoch 53/60\n",
      "2162/2162 [==============================] - 10s 5ms/step - loss: 0.7665 - accuracy: 0.7957\n",
      "Epoch 54/60\n",
      "2162/2162 [==============================] - 10s 4ms/step - loss: 0.7770 - accuracy: 0.7935\n",
      "Epoch 55/60\n",
      "2162/2162 [==============================] - 10s 5ms/step - loss: 0.7651 - accuracy: 0.7953\n",
      "Epoch 56/60\n",
      "2162/2162 [==============================] - 10s 4ms/step - loss: 0.7654 - accuracy: 0.7967\n",
      "Epoch 57/60\n",
      "2162/2162 [==============================] - 9s 4ms/step - loss: 0.7617 - accuracy: 0.7975\n",
      "Epoch 58/60\n",
      "2162/2162 [==============================] - 9s 4ms/step - loss: 0.7616 - accuracy: 0.7973\n",
      "Epoch 59/60\n",
      "2162/2162 [==============================] - 10s 4ms/step - loss: 0.7546 - accuracy: 0.7982\n",
      "Epoch 60/60\n",
      "2162/2162 [==============================] - 10s 4ms/step - loss: 0.7576 - accuracy: 0.7978\n"
     ]
    }
   ],
   "source": [
    "train(ecg_train,labels_train,names_train,fs,3,model_name='cnn2',epochs=60)"
   ]
  },
  {
   "cell_type": "markdown",
   "id": "9d7c8c5a",
   "metadata": {},
   "source": [
    "### Get predictions"
   ]
  },
  {
   "cell_type": "code",
   "execution_count": 8,
   "id": "88d8eb56",
   "metadata": {},
   "outputs": [],
   "source": [
    "labels_predicted=predict_labels(ecg_test,fs,names_test,model_name='cnn2')"
   ]
  },
  {
   "cell_type": "markdown",
   "id": "68fb5811",
   "metadata": {},
   "source": [
    "### Calculate score"
   ]
  },
  {
   "cell_type": "code",
   "execution_count": 9,
   "id": "15fc4e68",
   "metadata": {
    "scrolled": true
   },
   "outputs": [
    {
     "name": "stdout",
     "output_type": "stream",
     "text": [
      "1200\t Labels wurden geschrieben.\n",
      "1200\t Labels wurden geschrieben.\n"
     ]
    },
    {
     "data": {
      "text/plain": [
       "(0.8888888888888888,\n",
       " 0.607155704064201,\n",
       " {'N': {'n': 679, 'a': 16, 'o': 16, 'p': 5},\n",
       "  'A': {'n': 2, 'a': 96, 'o': 6, 'p': 0},\n",
       "  'O': {'n': 158, 'a': 77, 'o': 103, 'p': 5},\n",
       "  'P': {'n': 14, 'a': 7, 'o': 1, 'p': 15}})"
      ]
     },
     "execution_count": 9,
     "metadata": {},
     "output_type": "execute_result"
    }
   ],
   "source": [
    "pred_dir=\"cnn_1D\"\n",
    "pred_dir=os.path.join(os.getcwd(),pred_dir)\n",
    "#os.mkdir(pred_dir)\n",
    "labels_true=list()\n",
    "for i,label in enumerate(labels_test):\n",
    "    labels_true.append((names_test[i],label))\n",
    "\n",
    "save_predictions(labels_predicted,pred_dir,\"PREDICTIONS\")\n",
    "save_predictions(labels_true,pred_dir,\"REFERENCE\")\n",
    "score(pred_dir)"
   ]
  },
  {
   "cell_type": "markdown",
   "id": "61d8d7b4",
   "metadata": {},
   "source": [
    "##### this 97 is only because it was tested with the train data, normaly around 85"
   ]
  },
  {
   "cell_type": "markdown",
   "id": "3bbb4c67",
   "metadata": {},
   "source": [
    "## Full code\n",
    "#### (some parts may be outdated, check train_CNN.py, predict_CNN.py and process_data.py to find the up to date functions)"
   ]
  },
  {
   "cell_type": "code",
   "execution_count": 1,
   "id": "b2d7c9b6",
   "metadata": {},
   "outputs": [],
   "source": [
    "from wettbewerb import load_references, save_predictions\n",
    "from score import score\n",
    "import numpy as np\n",
    "import pandas as pd\n",
    "import matplotlib.pyplot as plt\n",
    "import os\n",
    "from ecgdetectors import Detectors\n",
    "import tensorflow as tf\n",
    "from tensorflow import keras\n",
    "from sklearn.model_selection import train_test_split\n",
    "from sklearn.decomposition import PCA\n",
    "import statistics\n",
    "from statistics import mode\n",
    "from process_data import filter_ecg\n",
    "from keras.models import model_from_json\n",
    "import graphviz"
   ]
  },
  {
   "cell_type": "code",
   "execution_count": 5,
   "id": "1c371dad",
   "metadata": {},
   "outputs": [],
   "source": [
    "model_name='Abgabe3'\n",
    "json_file = open(model_name+'.json', 'r')\n",
    "loaded_model_json = json_file.read()\n",
    "json_file.close()\n",
    "cnn_model = model_from_json(loaded_model_json)\n",
    "# load weights into new model\n",
    "cnn_model.load_weights(model_name+'.h5')\n",
    "#compile the model\n",
    "cnn_model.compile(optimizer='adam', loss = 'sparse_categorical_crossentropy', metrics=['accuracy'])"
   ]
  },
  {
   "cell_type": "code",
   "execution_count": 6,
   "id": "235fbc8d",
   "metadata": {},
   "outputs": [
    {
     "name": "stdout",
     "output_type": "stream",
     "text": [
      "Requirement already satisfied: graphviz in c:\\users\\degin\\anaconda3\\envs\\testkeras\\lib\\site-packages (0.20)\n",
      "Note: you may need to restart the kernel to use updated packages.\n"
     ]
    }
   ],
   "source": [
    "pip install graphviz"
   ]
  },
  {
   "cell_type": "code",
   "execution_count": 4,
   "id": "ba9193ee",
   "metadata": {},
   "outputs": [
    {
     "name": "stdout",
     "output_type": "stream",
     "text": [
      "('You must install pydot (`pip install pydot`) and install graphviz (see instructions at https://graphviz.gitlab.io/download/) ', 'for plot_model/model_to_dot to work.')\n"
     ]
    }
   ],
   "source": [
    "from keras.models import Sequential\n",
    "from keras.layers import Dense\n",
    "from keras.utils.vis_utils import plot_model\n",
    "model = Sequential()\n",
    "model.add(Dense(2, input_dim=1, activation='relu'))\n",
    "model.add(Dense(1, activation='sigmoid'))\n",
    "plot_model(model, to_file='model_plot.png', show_shapes=True, show_layer_names=True)"
   ]
  },
  {
   "cell_type": "code",
   "execution_count": 6,
   "id": "a578462f",
   "metadata": {},
   "outputs": [
    {
     "name": "stdout",
     "output_type": "stream",
     "text": [
      "('You must install pydot (`pip install pydot`) and install graphviz (see instructions at https://graphviz.gitlab.io/download/) ', 'for plot_model/model_to_dot to work.')\n"
     ]
    }
   ],
   "source": [
    "tf.keras.utils.plot_model(\n",
    "    cnn_model,\n",
    "    to_file=\"model.png\",\n",
    "    show_shapes=False,\n",
    "    show_dtype=False,\n",
    "    show_layer_names=True,\n",
    "    rankdir=\"TB\",\n",
    "    expand_nested=False,\n",
    "    dpi=96,\n",
    "    layer_range=None,\n",
    ")"
   ]
  },
  {
   "cell_type": "code",
   "execution_count": 3,
   "id": "d9b88bde",
   "metadata": {},
   "outputs": [
    {
     "name": "stdout",
     "output_type": "stream",
     "text": [
      "6000\t Dateien wurden geladen.\n"
     ]
    }
   ],
   "source": [
    "ecg_leads, ecg_labels, fs, ecg_names = load_references('training')\n"
   ]
  },
  {
   "cell_type": "code",
   "execution_count": 4,
   "id": "37b94ab2",
   "metadata": {},
   "outputs": [],
   "source": [
    "#preprocess the data and rename the labels into integers\n",
    "\n",
    "for idx, ecg_lead in enumerate(ecg_leads):\n",
    "    ecg_leads[idx]=filter_ecg(ecg_leads[idx])\n",
    "    ecg_leads[idx]=ecg_lead/np.amax(ecg_leads[idx])\n",
    "    \n",
    "for idx, label in enumerate(ecg_labels):\n",
    "    if label==\"N\":\n",
    "        ecg_labels[idx]=0\n",
    "    if label==\"A\":\n",
    "        ecg_labels[idx]=1\n",
    "    if label==\"O\":\n",
    "        ecg_labels[idx]=2\n",
    "    if label==\"~\":\n",
    "        ecg_labels[idx]=3\n"
   ]
  },
  {
   "cell_type": "code",
   "execution_count": 5,
   "id": "55527640",
   "metadata": {},
   "outputs": [],
   "source": [
    "#split into training and validation datasets\n",
    "ecg_train, ecg_test, labels_train, labels_test,names_train,names_test = train_test_split(ecg_leads, \n",
    "                                                                  ecg_labels,ecg_names,\n",
    "                                                                  test_size=0.2, shuffle =True,stratify=ecg_labels)"
   ]
  },
  {
   "cell_type": "markdown",
   "id": "e9a7a5dd",
   "metadata": {},
   "source": [
    "### Usefull functions \n",
    "#### (some may outdated, check the process_data.py to find the up to date functions)"
   ]
  },
  {
   "cell_type": "code",
   "execution_count": 6,
   "id": "65082427",
   "metadata": {},
   "outputs": [],
   "source": [
    "#finds the optimal value for the signal segmentation length from the traing dataset\n",
    "import statistics\n",
    "def find_optimal_length(hb):\n",
    "    opt_len=list()\n",
    "    for idx, ecg in enumerate(hb):\n",
    "        opt_len.append(len(ecg))\n",
    "    opt_len=statistics.median(opt_len)\n",
    "    #opt_len=mode(opt_len)\n",
    "    return opt_len"
   ]
  },
  {
   "cell_type": "code",
   "execution_count": 7,
   "id": "d4c68e20",
   "metadata": {},
   "outputs": [],
   "source": [
    "#segment the data \n",
    "import neurokit2 as nk\n",
    "import pandas as pd\n",
    "from ecgdetectors import Detectors\n",
    "def split_HB(num_HB, ecg, labels,names,fs):\n",
    "    \n",
    "    #this split the data in segments of 3 heart beats\n",
    "    hb=list()\n",
    "    hb_labels=list()\n",
    "    #this saves which split signal is part from which actual whole signal\n",
    "    decoder=list()\n",
    "    #start detectors as alternative\n",
    "    detectors=Detectors(fs)\n",
    "    for idx, ecg_lead in enumerate(ecg):\n",
    "         #converts to a series\n",
    "        ecg_lead=pd.Series(ecg_lead)\n",
    "        #find the R peaks\n",
    "        try:\n",
    "            _, rpeaks = nk.ecg_peaks(ecg_lead,sampling_rate=fs)\n",
    "            rpeaks=rpeaks['ECG_R_Peaks']\n",
    "            prev_slice=rpeaks[0]\n",
    "\n",
    "        #if we cant find the r peaks because sadge, then use other detector\n",
    "        except:\n",
    "            rpeaks = detectors.pan_tompkins_detector(ecg_lead)\n",
    "            prev_slice=rpeaks[0]\n",
    "            #this is the splitting of the signal\n",
    "        if len(rpeaks)<2*num_HB:\n",
    "            rpeaks = detectors.pan_tompkins_detector(ecg_lead)\n",
    "            prev_slice=rpeaks[0]\n",
    "        for count, posR in enumerate(rpeaks):\n",
    "            #only extract from the 3d peak\n",
    "            if (count%num_HB)==0 and len(ecg_lead[prev_slice:posR])>0:\n",
    "                hb.append(ecg_lead[prev_slice:posR])\n",
    "                hb_labels.append(labels[idx])\n",
    "                decoder.append(names[idx])\n",
    "                prev_slice=posR\n",
    "    return hb, hb_labels,decoder\n",
    "      "
   ]
  },
  {
   "cell_type": "code",
   "execution_count": 8,
   "id": "0ba6da3b",
   "metadata": {},
   "outputs": [],
   "source": [
    "from imblearn.over_sampling import SMOTE \n",
    "from sklearn.decomposition import PCA\n",
    "#numHB is an integer that gives the number of beats each signals will have from the original signal\n",
    "def generate_data_set(numHB,ecg,labels,names,freq,smote:bool=False,minL:int=0,pca_prev=None,pca:bool=False):\n",
    "    #data will be returen as a dictionary with the desired variables \n",
    "    data={}\n",
    "    #first get the ecg split into hear beats\n",
    "    hb,hb_labels,decoder=split_HB(numHB,ecg,labels,names,freq)\n",
    "    #find the optimal length if minL was not given\n",
    "    if minL<=0:\n",
    "        minL=int(find_optimal_length(hb))\n",
    "        \n",
    "     #transforms it into a list of np array\n",
    "    temp=list()\n",
    "    for idx,ecg_lead in enumerate(hb): \n",
    "        temp.append(ecg_lead.to_numpy())\n",
    "    #make all heart beat signals the same length, for larger signal cut them, for shorter signals just add 0s until it matches the desired length\n",
    "  \n",
    "    #new approach to delete the other signals that are too small\n",
    "    new_ecg=list()\n",
    "    new_labels=list()\n",
    "    #instead of removing them, we want to do something different, add them in another list\n",
    "    for idx, ecg_lead in enumerate(temp):\n",
    "        if len(ecg_lead)>=minL:\n",
    "            new_ecg.append(ecg_lead[:minL])\n",
    "            new_labels.append(hb_labels[idx])\n",
    "            #new_ecg_names.append(ecg_names[idx])\n",
    "        else:\n",
    "            toAdd=minL-len(ecg_lead)\n",
    "            toAdd=np.zeros(toAdd)\n",
    "            #merges the signal that was too short with signal full of 0 to achive the desired lenght\n",
    "            new_ecg.append(np.concatenate((ecg_lead, toAdd)))\n",
    "            new_labels.append(hb_labels[idx])\n",
    "            #new_ecg_names.append(ecg_names[idx])\n",
    "    if smote:\n",
    "        sm = SMOTE()\n",
    "        new_ecg, new_labels = sm.fit_resample(new_ecg, new_labels)\n",
    "\n",
    "    \n",
    "    #only use pca if we say so\n",
    "    if pca:\n",
    "        #if we dont send any older pca, then create its own\n",
    "        if pca_prev is None:\n",
    "            pca_prev=PCA(.99)\n",
    "            pca_prev.fit(new_ecg)\n",
    "        #use the pca to reduce the dimension of the data\n",
    "        new_ecg=pca_prev.transform(new_ecg)\n",
    "        data['pca']=pca_prev\n",
    "\n",
    " #now convert the data into working dataset for the cnn model\n",
    "    x=new_ecg\n",
    "    x=np.array(x)\n",
    "    x=x.reshape((x.shape[0],x.shape[1],1))\n",
    "    \n",
    "    y=np.array(new_labels)\n",
    "    \n",
    "    #return the data in a dictionary way, to simplily later use of the desired variables\n",
    "   \n",
    "    data['input']=x\n",
    "    data['labels']=y\n",
    "    data['decoder']=decoder\n",
    "    data['optimal_length']=minL\n",
    "    \n",
    "    return data"
   ]
  },
  {
   "cell_type": "markdown",
   "id": "31409ada",
   "metadata": {},
   "source": [
    "### Generate Data"
   ]
  },
  {
   "cell_type": "code",
   "execution_count": 10,
   "id": "126ec7f8",
   "metadata": {
    "scrolled": true
   },
   "outputs": [
    {
     "name": "stdout",
     "output_type": "stream",
     "text": [
      "----------\n"
     ]
    }
   ],
   "source": [
    "train=generate_data_set(3,ecg_train,labels_train,names_train,fs,\n",
    "                        smote=True,\n",
    "                       )\n",
    "#train is a dictionary, get the actual variables\n",
    "x_train=train['input']\n",
    "y_train=train['labels']\n",
    "opt_length=train['optimal_length']\n",
    "print(\"----------\")\n",
    "test=generate_data_set(3,ecg_test,labels_test,names_test,fs,\n",
    "                       minL=opt_length\n",
    "                      )\n",
    "x_test=test['input']\n",
    "y_test=test['labels']\n",
    "decoder_test=test['decoder']\n",
    "\n"
   ]
  },
  {
   "cell_type": "markdown",
   "id": "97106ec0",
   "metadata": {},
   "source": [
    "### CNN Model"
   ]
  },
  {
   "cell_type": "code",
   "execution_count": 11,
   "id": "05e121e6",
   "metadata": {},
   "outputs": [],
   "source": [
    "#THIS IS THE MODEL WE ARE USING\n",
    "#CNN\n",
    "from tensorflow.keras.layers import Flatten, Dense, Conv1D, MaxPool1D, Dropout\n",
    "from keras.layers import GaussianNoise\n",
    "# Create sequential model \n",
    "cnn_model = tf.keras.models.Sequential()\n",
    "#First CNN layer  with 32 filters, conv window 3, relu activation and same padding\n",
    "cnn_model.add(Conv1D(filters=32, kernel_size=(5,), strides=1, padding='same', activation=tf.keras.layers.LeakyReLU(alpha=0.001), input_shape = (x_train.shape[1:])))\n",
    "cnn_model.add(Conv1D(filters=32, kernel_size=(5,), strides=1, padding='same', activation=tf.keras.layers.LeakyReLU(alpha=0.001), input_shape = (x_train.shape[1:])))\n",
    "\n",
    "#Second CNN layer  with 64 filters, conv window 3, relu activation and same padding\n",
    "cnn_model.add(Conv1D(filters=64, kernel_size=(3,), strides=1, padding='same', activation=tf.keras.layers.LeakyReLU(alpha=0.001)))\n",
    "#Third CNN layer with 128 filters, conv window 3, relu activation and same padding\n",
    "cnn_model.add(Conv1D(filters=64, kernel_size=(3,), strides=1,padding='same', activation=tf.keras.layers.LeakyReLU(alpha=0.001)))\n",
    "#Fourth CNN layer with Max pooling\n",
    "cnn_model.add(MaxPool1D(pool_size=(3,), strides=2, padding='same'))\n",
    "cnn_model.add(Dropout(0.5))\n",
    "\n",
    "#this is legit very important\n",
    "cnn_model.add(GaussianNoise(0.1))\n",
    "#Flatten the output\n",
    "\n",
    "cnn_model.add(Flatten())\n",
    "#Add a dense layer with 256 neurons\n",
    "cnn_model.add(Dense(units = 64, activation=tf.keras.layers.LeakyReLU(alpha=0.001)))\n",
    "#Add a dense layer with 512 neurons\n",
    "cnn_model.add(Dense(units = 128, activation=tf.keras.layers.LeakyReLU(alpha=0.001)))\n",
    "#Add a dense layer with 512 neurons\n",
    "cnn_model.add(Dense(units = 128, activation=tf.keras.layers.LeakyReLU(alpha=0.001)))\n",
    "#Softmax as last layer with five outputs\n",
    "cnn_model.add(Dense(units = 4, activation='softmax'))"
   ]
  },
  {
   "cell_type": "code",
   "execution_count": 137,
   "id": "a12c30da",
   "metadata": {},
   "outputs": [],
   "source": [
    "#OLD CNN MODEL\n",
    "#CNN\n",
    "from tensorflow.keras.layers import Flatten, Dense, Conv1D, MaxPool1D, Dropout\n",
    "from keras.layers import GaussianNoise\n",
    "# Create sequential model \n",
    "cnn_model = tf.keras.models.Sequential()\n",
    "#First CNN layer  with 32 filters, conv window 3, relu activation and same padding\n",
    "cnn_model.add(Conv1D(filters=32, kernel_size=(3,), strides=1, padding='same', activation=tf.keras.layers.LeakyReLU(alpha=0.001), input_shape = (x_train.shape[1:])))\n",
    "#Second CNN layer  with 64 filters, conv window 3, relu activation and same padding\n",
    "cnn_model.add(Conv1D(filters=64, kernel_size=(3,), strides=1, padding='same', activation=tf.keras.layers.LeakyReLU(alpha=0.001)))\n",
    "#Third CNN layer with 128 filters, conv window 3, relu activation and same padding\n",
    "cnn_model.add(Conv1D(filters=128, kernel_size=(3,), strides=1,padding='same', activation=tf.keras.layers.LeakyReLU(alpha=0.001)))\n",
    "#Fourth CNN layer with Max pooling\n",
    "cnn_model.add(MaxPool1D(pool_size=(3,), strides=2, padding='same'))\n",
    "cnn_model.add(Dropout(0.5))\n",
    "\n",
    "#this is legit very important\n",
    "cnn_model.add(GaussianNoise(0.1))\n",
    "#Flatten the output\n",
    "\n",
    "cnn_model.add(Flatten())\n",
    "#Add a dense layer with 256 neurons\n",
    "cnn_model.add(Dense(units = 64, activation=tf.keras.layers.LeakyReLU(alpha=0.001)))\n",
    "#Add a dense layer with 512 neurons\n",
    "cnn_model.add(Dense(units = 128, activation=tf.keras.layers.LeakyReLU(alpha=0.001)))\n",
    "#Add a dense layer with 512 neurons\n",
    "cnn_model.add(Dense(units = 256, activation=tf.keras.layers.LeakyReLU(alpha=0.001)))\n",
    "#Softmax as last layer with five outputs\n",
    "cnn_model.add(Dense(units = 4, activation='softmax'))\n"
   ]
  },
  {
   "cell_type": "code",
   "execution_count": 12,
   "id": "dacecd62",
   "metadata": {},
   "outputs": [
    {
     "name": "stdout",
     "output_type": "stream",
     "text": [
      "Model: \"sequential\"\n",
      "_________________________________________________________________\n",
      "Layer (type)                 Output Shape              Param #   \n",
      "=================================================================\n",
      "conv1d (Conv1D)              (None, 715, 32)           192       \n",
      "_________________________________________________________________\n",
      "conv1d_1 (Conv1D)            (None, 715, 32)           5152      \n",
      "_________________________________________________________________\n",
      "conv1d_2 (Conv1D)            (None, 715, 64)           6208      \n",
      "_________________________________________________________________\n",
      "conv1d_3 (Conv1D)            (None, 715, 64)           12352     \n",
      "_________________________________________________________________\n",
      "max_pooling1d (MaxPooling1D) (None, 358, 64)           0         \n",
      "_________________________________________________________________\n",
      "dropout (Dropout)            (None, 358, 64)           0         \n",
      "_________________________________________________________________\n",
      "gaussian_noise (GaussianNois (None, 358, 64)           0         \n",
      "_________________________________________________________________\n",
      "flatten (Flatten)            (None, 22912)             0         \n",
      "_________________________________________________________________\n",
      "dense (Dense)                (None, 64)                1466432   \n",
      "_________________________________________________________________\n",
      "dense_1 (Dense)              (None, 128)               8320      \n",
      "_________________________________________________________________\n",
      "dense_2 (Dense)              (None, 128)               16512     \n",
      "_________________________________________________________________\n",
      "dense_3 (Dense)              (None, 4)                 516       \n",
      "=================================================================\n",
      "Total params: 1,515,684\n",
      "Trainable params: 1,515,684\n",
      "Non-trainable params: 0\n",
      "_________________________________________________________________\n"
     ]
    }
   ],
   "source": [
    "cnn_model.compile(optimizer='adam', loss = 'sparse_categorical_crossentropy', metrics=['accuracy'])\n",
    "cnn_model.summary()"
   ]
  },
  {
   "cell_type": "markdown",
   "id": "f02cb040",
   "metadata": {},
   "source": [
    "### Train model"
   ]
  },
  {
   "cell_type": "code",
   "execution_count": 13,
   "id": "6b80528c",
   "metadata": {
    "scrolled": false
   },
   "outputs": [
    {
     "name": "stdout",
     "output_type": "stream",
     "text": [
      "Epoch 1/8\n",
      "4306/4306 [==============================] - 24s 5ms/step - loss: 1.8422 - accuracy: 0.5597 - val_loss: 1.2373 - val_accuracy: 0.5506\n",
      "Epoch 2/8\n",
      "4306/4306 [==============================] - 21s 5ms/step - loss: 1.2783 - accuracy: 0.6836 - val_loss: 1.1295 - val_accuracy: 0.5717\n",
      "Epoch 3/8\n",
      "4306/4306 [==============================] - 22s 5ms/step - loss: 1.0390 - accuracy: 0.7275 - val_loss: 1.1184 - val_accuracy: 0.6109\n",
      "Epoch 4/8\n",
      "4306/4306 [==============================] - 23s 5ms/step - loss: 0.9060 - accuracy: 0.7545 - val_loss: 1.0465 - val_accuracy: 0.6217\n",
      "Epoch 5/8\n",
      "4306/4306 [==============================] - 23s 5ms/step - loss: 0.8140 - accuracy: 0.7742 - val_loss: 1.0875 - val_accuracy: 0.6390\n",
      "Epoch 6/8\n",
      "4306/4306 [==============================] - 21s 5ms/step - loss: 0.7463 - accuracy: 0.7872 - val_loss: 1.0975 - val_accuracy: 0.6412\n",
      "Epoch 7/8\n",
      "4306/4306 [==============================] - 21s 5ms/step - loss: 0.6914 - accuracy: 0.8001 - val_loss: 1.0469 - val_accuracy: 0.6355\n",
      "Epoch 8/8\n",
      "4306/4306 [==============================] - 21s 5ms/step - loss: 0.6540 - accuracy: 0.8091 - val_loss: 1.1505 - val_accuracy: 0.6310\n"
     ]
    }
   ],
   "source": [
    "epochs = 8\n",
    "batch_size = 32\n",
    "weights = {0: 2.,1: 10.,2: 1.,3: 1}\n",
    "from keras import callbacks\n",
    "earlystopping = callbacks.EarlyStopping(monitor =\"val_loss\", mode =\"min\", patience = 5, restore_best_weights = True)\n",
    "history = cnn_model.fit(\n",
    "    x_train,\n",
    "    y_train,\n",
    "    batch_size=batch_size,\n",
    "    epochs=epochs,\n",
    "    validation_data = (x_test, y_test),\n",
    "class_weight=weights\n",
    "#callbacks =[earlystopping]\n",
    ")"
   ]
  },
  {
   "cell_type": "markdown",
   "id": "9bb9d290",
   "metadata": {},
   "source": [
    "### Get predictions and score"
   ]
  },
  {
   "cell_type": "code",
   "execution_count": 14,
   "id": "b516c9b5",
   "metadata": {
    "scrolled": false
   },
   "outputs": [
    {
     "name": "stdout",
     "output_type": "stream",
     "text": [
      "1200\t Labels wurden geschrieben.\n",
      "1200\t Labels wurden geschrieben.\n"
     ]
    },
    {
     "data": {
      "text/plain": [
       "(0.8844221105527639,\n",
       " 0.5709409213460968,\n",
       " {'N': {'n': 654, 'a': 7, 'o': 36, 'p': 19},\n",
       "  'A': {'n': 10, 'a': 88, 'o': 2, 'p': 4},\n",
       "  'O': {'n': 180, 'a': 67, 'o': 89, 'p': 7},\n",
       "  'P': {'n': 12, 'a': 4, 'o': 3, 'p': 18}})"
      ]
     },
     "execution_count": 14,
     "metadata": {},
     "output_type": "execute_result"
    }
   ],
   "source": [
    "import statistics\n",
    "from statistics import mode\n",
    "#get the predictions\n",
    "classes = cnn_model.predict(x_test)\n",
    "predictions=list()\n",
    "for idx, ecg_lead in enumerate (classes):\n",
    "    predictions.append(np.argmax(ecg_lead))\n",
    "\n",
    "#this dictionary will save all the predictions in groups\n",
    "label_decoder={}\n",
    "for idx, label in enumerate(predictions):\n",
    "    if decoder_test[idx] in label_decoder:\n",
    "        label_decoder[decoder_test[idx]].append(label)\n",
    "    else:\n",
    "        label_decoder[decoder_test[idx]]=list()\n",
    "        label_decoder[decoder_test[idx]].append(label)\n",
    "#to get the most frequent prediction for each signal \n",
    "labels_toTest=list()\n",
    "labels_toSave=list()\n",
    "for idx,keys in enumerate(label_decoder):\n",
    "    #get the most frequent prediction\n",
    "    frequent_label=mode(label_decoder[keys])\n",
    "    #convert it into a letter\n",
    "    labels2give=\"N\"\n",
    "    if int(frequent_label)==0:\n",
    "        labels2give=\"N\"\n",
    "    elif int(frequent_label)==1:\n",
    "        labels2give=\"A\"\n",
    "    elif int(frequent_label)==2:\n",
    "        labels2give=\"O\"\n",
    "    else:\n",
    "        labels2give=\"~\"\n",
    "    #save the final predictred labels\n",
    "    labels_toTest.append((keys,labels2give))\n",
    "\n",
    "for i,ecg in enumerate(labels_test):\n",
    "    ecg_class=int(ecg)\n",
    "    label2give=\"N\"\n",
    "    if int(ecg_class)==0:\n",
    "        labels2give=\"N\"\n",
    "    elif int(ecg_class)==1:\n",
    "        labels2give=\"A\"\n",
    "    elif int(ecg_class)==2:\n",
    "        labels2give=\"O\"\n",
    "    else:\n",
    "        labels2give=\"~\"\n",
    "    #esto es para el name\n",
    "    labels_toSave.append((names_test[i],labels2give))\n",
    "\n",
    "save_predictions(labels_toTest,model_dir,\"PREDICTIONS\")\n",
    "save_predictions(labels_toSave,model_dir,\"REFERENCE\")\n",
    "score(model_dir)"
   ]
  }
 ],
 "metadata": {
  "kernelspec": {
   "display_name": "Python 3 (ipykernel)",
   "language": "python",
   "name": "python3"
  },
  "language_info": {
   "codemirror_mode": {
    "name": "ipython",
    "version": 3
   },
   "file_extension": ".py",
   "mimetype": "text/x-python",
   "name": "python",
   "nbconvert_exporter": "python",
   "pygments_lexer": "ipython3",
   "version": "3.9.12"
  }
 },
 "nbformat": 4,
 "nbformat_minor": 5
}
